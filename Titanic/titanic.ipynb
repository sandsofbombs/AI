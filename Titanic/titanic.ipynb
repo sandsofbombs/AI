{
 "cells": [
  {
   "cell_type": "code",
   "execution_count": null,
   "id": "86958f31-ecd6-49cc-b10b-ef652be5c097",
   "metadata": {},
   "outputs": [],
   "source": [
    "#question : What was the average age of those on the titanic?"
   ]
  },
  {
   "cell_type": "markdown",
   "id": "fa933921-6d45-47e2-b52e-46a59bac37f7",
   "metadata": {},
   "source": [
    "This is a retrospective observational study to see the average age of the people on the titanic. I collected data from the census provided by the teacher. the sampling technique used in my observational study is likely statistical. though this could overexaggerate or underestimate the true data"
   ]
  },
  {
   "cell_type": "code",
   "execution_count": 9,
   "id": "cf51dc66-70a9-4097-9fb1-c78be7b41c68",
   "metadata": {},
   "outputs": [
    {
     "name": "stdout",
     "output_type": "stream",
     "text": [
      "['PassengerId', 'Survived', 'Pclass', 'Name', 'Sex', 'Age', 'SibSp', 'Parch', 'Ticket', 'Fare', 'Cabin', 'Embarked']\n",
      "0      22.0\n",
      "1      38.0\n",
      "2      26.0\n",
      "3      35.0\n",
      "4      35.0\n",
      "       ... \n",
      "886    27.0\n",
      "887    19.0\n",
      "888     NaN\n",
      "889    26.0\n",
      "890    32.0\n",
      "Name: Age, Length: 891, dtype: float64\n",
      "Average age (using pandas): 29.69911764705882\n"
     ]
    }
   ],
   "source": [
    "import pandas as pd\n",
    "\n",
    "df = pd.read_csv('titanic.csv')\n",
    "\n",
    "df.iloc[:, 0]\n",
    "\n",
    "columns = df.columns.to_list()\n",
    "print(columns)\n",
    "ages = df[\"Age\"]\n",
    "print(ages)\n",
    "for i in ages:\n",
    "    average_age_pandas = ages.mean()\n",
    "print(\"Average age (using pandas):\", average_age_pandas)"
   ]
  },
  {
   "cell_type": "code",
   "execution_count": null,
   "id": "41b5a966-1db1-4c76-b5e3-7e6fd2b0460b",
   "metadata": {},
   "outputs": [],
   "source": [
    "the average age of people on the titanic was around 29 years old."
   ]
  }
 ],
 "metadata": {
  "kernelspec": {
   "display_name": "anaconda-ai-2024.04-py310",
   "language": "python",
   "name": "conda-env-anaconda-ai-2024.04-py310-py"
  },
  "language_info": {
   "codemirror_mode": {
    "name": "ipython",
    "version": 3
   },
   "file_extension": ".py",
   "mimetype": "text/x-python",
   "name": "python",
   "nbconvert_exporter": "python",
   "pygments_lexer": "ipython3",
   "version": "3.10.13"
  }
 },
 "nbformat": 4,
 "nbformat_minor": 5
}
